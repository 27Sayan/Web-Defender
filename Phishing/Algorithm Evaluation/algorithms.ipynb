{
  "nbformat": 4,
  "nbformat_minor": 0,
  "metadata": {
    "colab": {
      "provenance": []
    },
    "kernelspec": {
      "name": "python3",
      "display_name": "Python 3"
    },
    "language_info": {
      "name": "python"
    }
  },
  "cells": [
    {
      "cell_type": "code",
      "source": [
        "import time\n",
        "import pandas as pd\n",
        "from sklearn.model_selection import train_test_split\n",
        "from sklearn.neural_network import MLPClassifier\n",
        "from sklearn.preprocessing import LabelEncoder\n",
        "from sklearn.ensemble import RandomForestClassifier\n",
        "from sklearn import svm\n",
        "from sklearn.metrics import accuracy_score, confusion_matrix, f1_score"
      ],
      "metadata": {
        "id": "M7_wHydSJqXm"
      },
      "execution_count": 13,
      "outputs": []
    },
    {
      "cell_type": "code",
      "source": [
        "# Step 1: Load the datasets\n",
        "dataset_path = \"/content/sample_data/Dataset.csv\"\n",
        "class_labels_path = \"/content/sample_data/Target_Labels.csv\""
      ],
      "metadata": {
        "id": "3klPe1vqJwqS"
      },
      "execution_count": 14,
      "outputs": []
    },
    {
      "cell_type": "code",
      "source": [
        "# Read the dataset and class labels\n",
        "X = pd.read_csv(dataset_path)\n",
        "Y = pd.read_csv(class_labels_path)\n",
        "\n",
        "# Step 2: Preprocess the data\n",
        "# Convert class labels to 1D array if needed\n",
        "Y = Y.values.ravel()\n",
        "\n",
        "# Initialize LabelEncoder to encode any categorical features\n",
        "label_encoder = LabelEncoder()"
      ],
      "metadata": {
        "id": "ONxCG6MLJ0ZW"
      },
      "execution_count": 15,
      "outputs": []
    },
    {
      "cell_type": "code",
      "source": [
        "# Iterate over each column in X and encode non-numeric values\n",
        "for column in X.columns:\n",
        "    if X[column].dtype == object:\n",
        "        X[column] = label_encoder.fit_transform(X[column])"
      ],
      "metadata": {
        "id": "k2eUZEiRJ58g"
      },
      "execution_count": 16,
      "outputs": []
    },
    {
      "cell_type": "code",
      "source": [
        "# Step 3: Split the dataset into training and testing sets\n",
        "test_size = 0.3\n",
        "X_train, X_test, y_train, y_test = train_test_split(X, Y, test_size=test_size, random_state=42)"
      ],
      "metadata": {
        "id": "KunLVXbLJ-73"
      },
      "execution_count": 17,
      "outputs": []
    },
    {
      "cell_type": "code",
      "source": [
        "# Step 4: Train and test with Neural Network\n",
        "print(\"\\nTraining with Neural Network...\")\n",
        "start_time = time.time()\n",
        "\n",
        "nn_model = MLPClassifier(hidden_layer_sizes=(100), activation='logistic', random_state=42)\n",
        "nn_model.fit(X_train, y_train)\n",
        "y_pred_nn = nn_model.predict(X_test)\n",
        "\n",
        "# Metrics for Neural Network\n",
        "accuracy_nn = accuracy_score(y_test, y_pred_nn)\n",
        "confusion_mat_nn = confusion_matrix(y_test, y_pred_nn)\n",
        "f1_nn = f1_score(y_test, y_pred_nn, pos_label=1)\n",
        "\n",
        "print(f\"Neural Network Accuracy: {round(accuracy_nn * 100, 2)}%\")\n",
        "print(\"Confusion Matrix (Neural Network):\")\n",
        "print(confusion_mat_nn)\n",
        "print(f\"F1 Score (Neural Network): {f1_nn}\")\n",
        "print(f\"Runtime (Neural Network): {time.time() - start_time} seconds\")"
      ],
      "metadata": {
        "colab": {
          "base_uri": "https://localhost:8080/"
        },
        "id": "cjCwxIgjKFz6",
        "outputId": "308bee4b-b929-40cf-dd13-59269b21a160"
      },
      "execution_count": 18,
      "outputs": [
        {
          "output_type": "stream",
          "name": "stdout",
          "text": [
            "\n",
            "Training with Neural Network...\n",
            "Neural Network Accuracy: 89.03%\n",
            "Confusion Matrix (Neural Network):\n",
            "[[1246  209]\n",
            " [ 155 1707]]\n",
            "F1 Score (Neural Network): 0.9036527263102171\n",
            "Runtime (Neural Network): 13.484713315963745 seconds\n"
          ]
        },
        {
          "output_type": "stream",
          "name": "stderr",
          "text": [
            "/usr/local/lib/python3.10/dist-packages/sklearn/neural_network/_multilayer_perceptron.py:691: ConvergenceWarning: Stochastic Optimizer: Maximum iterations (200) reached and the optimization hasn't converged yet.\n",
            "  warnings.warn(\n"
          ]
        }
      ]
    },
    {
      "cell_type": "code",
      "source": [
        "# Step 5: Train and test with Random Forests\n",
        "print(\"\\nTraining with Random Forests...\")\n",
        "start_time = time.time()\n",
        "\n",
        "rf_model = RandomForestClassifier(n_estimators=5, criterion='entropy', random_state=42)\n",
        "rf_model.fit(X_train, y_train)\n",
        "y_pred_rf = rf_model.predict(X_test)\n",
        "\n",
        "# Metrics for Random Forests\n",
        "accuracy_rf = accuracy_score(y_test, y_pred_rf)\n",
        "confusion_mat_rf = confusion_matrix(y_test, y_pred_rf)\n",
        "f1_rf = f1_score(y_test, y_pred_rf, pos_label=1)\n",
        "\n",
        "print(f\"Random Forests Accuracy: {round(accuracy_rf * 100, 2)}%\")\n",
        "print(\"Confusion Matrix (Random Forests):\")\n",
        "print(confusion_mat_rf)\n",
        "print(f\"F1 Score (Random Forests): {f1_rf}\")\n",
        "print(f\"Runtime (Random Forests): {time.time() - start_time} seconds\")"
      ],
      "metadata": {
        "colab": {
          "base_uri": "https://localhost:8080/"
        },
        "id": "YJ4APKcsKJdD",
        "outputId": "b37dfceb-5a1e-47fd-a45d-e224b4b2fe24"
      },
      "execution_count": 19,
      "outputs": [
        {
          "output_type": "stream",
          "name": "stdout",
          "text": [
            "\n",
            "Training with Random Forests...\n",
            "Random Forests Accuracy: 89.63%\n",
            "Confusion Matrix (Random Forests):\n",
            "[[1293  162]\n",
            " [ 182 1680]]\n",
            "F1 Score (Random Forests): 0.9071274298056156\n",
            "Runtime (Random Forests): 0.05184650421142578 seconds\n"
          ]
        }
      ]
    },
    {
      "cell_type": "code",
      "source": [
        "# Step 6: Train and test with Support Vector Machine\n",
        "print(\"\\nTraining with Support Vector Machine...\")\n",
        "start_time = time.time()\n",
        "\n",
        "svm_model = svm.SVC(kernel='linear', C=2.0)\n",
        "svm_model.fit(X_train, y_train)\n",
        "y_pred_svm = svm_model.predict(X_test)\n",
        "\n",
        "# Metrics for SVM\n",
        "accuracy_svm = accuracy_score(y_test, y_pred_svm)\n",
        "confusion_mat_svm = confusion_matrix(y_test, y_pred_svm)\n",
        "f1_svm = f1_score(y_test, y_pred_svm, pos_label=1)\n",
        "\n",
        "print(f\"Support Vector Machine Accuracy: {round(accuracy_svm * 100, 2)}%\")\n",
        "print(\"Confusion Matrix (SVM):\")\n",
        "print(confusion_mat_svm)\n",
        "print(f\"F1 Score (SVM): {f1_svm}\")\n",
        "print(f\"Runtime (SVM): {time.time() - start_time} seconds\")"
      ],
      "metadata": {
        "colab": {
          "base_uri": "https://localhost:8080/"
        },
        "id": "TKXDTGUVKMGh",
        "outputId": "964dcc30-4951-49fe-e562-e57c74ed618d"
      },
      "execution_count": 27,
      "outputs": [
        {
          "output_type": "stream",
          "name": "stdout",
          "text": [
            "\n",
            "Training with Support Vector Machine...\n",
            "Support Vector Machine Accuracy: 87.43%\n",
            "Confusion Matrix (SVM):\n",
            "[[1209  246]\n",
            " [ 171 1691]]\n",
            "F1 Score (SVM): 0.8902342721768886\n",
            "Runtime (SVM): 4.644014358520508 seconds\n"
          ]
        }
      ]
    },
    {
      "cell_type": "code",
      "source": [
        "# After fitting the neural network model\n",
        "nn_model.coefs_\n"
      ],
      "metadata": {
        "colab": {
          "base_uri": "https://localhost:8080/"
        },
        "id": "4kbEfYhfMJ-i",
        "outputId": "95cfaa77-f2f1-46a0-9953-0fd41057656e"
      },
      "execution_count": 21,
      "outputs": [
        {
          "output_type": "execute_result",
          "data": {
            "text/plain": [
              "[array([[-0.22285193,  0.07203352, -0.02436779, ...,  0.03820019,\n",
              "         -0.20960371, -0.64068575],\n",
              "        [-0.35722787,  0.07111934, -0.13040664, ...,  0.1228127 ,\n",
              "          0.31711433, -0.53175581],\n",
              "        [-0.44260491,  0.18004558,  0.37179717, ...,  0.27752293,\n",
              "          0.54784388, -0.72967862],\n",
              "        ...,\n",
              "        [ 0.02880598,  0.06295194, -0.24522283, ..., -0.08113015,\n",
              "         -0.27579689,  0.1711363 ],\n",
              "        [-0.05980668, -0.02353248,  0.00840146, ...,  0.01617994,\n",
              "         -0.1128962 ,  0.19945874],\n",
              "        [ 0.11498063,  0.0272232 , -0.07810823, ..., -0.05637162,\n",
              "         -0.36159462,  0.11086848]]),\n",
              " array([[ 0.48164025],\n",
              "        [-0.21910735],\n",
              "        [-0.3103154 ],\n",
              "        [ 0.40498169],\n",
              "        [ 0.78416145],\n",
              "        [-0.44660042],\n",
              "        [ 0.43760243],\n",
              "        [-0.18115391],\n",
              "        [ 0.48399996],\n",
              "        [ 1.01762589],\n",
              "        [-0.37562501],\n",
              "        [-0.29145377],\n",
              "        [ 0.39146017],\n",
              "        [-1.29865376],\n",
              "        [-0.37248126],\n",
              "        [ 0.43128389],\n",
              "        [-0.40722926],\n",
              "        [ 0.38716237],\n",
              "        [ 0.75360438],\n",
              "        [-0.33154932],\n",
              "        [-0.29699256],\n",
              "        [-0.37801639],\n",
              "        [-0.05421743],\n",
              "        [-0.12156861],\n",
              "        [ 0.53278671],\n",
              "        [-0.30881289],\n",
              "        [ 0.61711812],\n",
              "        [ 0.40657908],\n",
              "        [ 0.32290274],\n",
              "        [ 0.43023256],\n",
              "        [-0.7731393 ],\n",
              "        [ 0.36224716],\n",
              "        [ 0.33420001],\n",
              "        [-0.311029  ],\n",
              "        [-0.30704613],\n",
              "        [ 0.43384322],\n",
              "        [-1.98594565],\n",
              "        [-0.45242363],\n",
              "        [-0.33894094],\n",
              "        [-0.2967083 ],\n",
              "        [ 0.71275766],\n",
              "        [ 0.62643683],\n",
              "        [ 0.44414406],\n",
              "        [-0.24038924],\n",
              "        [-0.41656122],\n",
              "        [ 0.34462553],\n",
              "        [-0.36738088],\n",
              "        [-0.26402657],\n",
              "        [ 0.38494491],\n",
              "        [-0.30646949],\n",
              "        [ 0.4212372 ],\n",
              "        [-0.20785227],\n",
              "        [-0.28944892],\n",
              "        [-0.18321749],\n",
              "        [ 0.49806428],\n",
              "        [ 0.53548295],\n",
              "        [ 0.3938803 ],\n",
              "        [ 0.54321139],\n",
              "        [-0.33063159],\n",
              "        [ 0.34623206],\n",
              "        [ 0.85258122],\n",
              "        [ 0.57907365],\n",
              "        [-0.26696562],\n",
              "        [ 0.52260349],\n",
              "        [-0.32439987],\n",
              "        [-0.31583577],\n",
              "        [ 0.62577899],\n",
              "        [-1.40717721],\n",
              "        [-0.32815811],\n",
              "        [-0.24607312],\n",
              "        [-1.29029477],\n",
              "        [ 0.41989348],\n",
              "        [ 0.4470027 ],\n",
              "        [ 0.3627523 ],\n",
              "        [ 0.42780259],\n",
              "        [-0.21840988],\n",
              "        [ 0.33667451],\n",
              "        [-0.28051693],\n",
              "        [-0.25840666],\n",
              "        [ 0.36373989],\n",
              "        [-0.31352413],\n",
              "        [ 0.46527781],\n",
              "        [-0.25533033],\n",
              "        [ 0.41075262],\n",
              "        [ 0.39406157],\n",
              "        [ 0.38858957],\n",
              "        [ 0.32419435],\n",
              "        [ 0.30082938],\n",
              "        [-0.26686099],\n",
              "        [ 0.23830566],\n",
              "        [-0.34819183],\n",
              "        [ 0.37175576],\n",
              "        [ 0.38658266],\n",
              "        [ 0.35532367],\n",
              "        [-0.32658728],\n",
              "        [-0.34069826],\n",
              "        [ 0.38183375],\n",
              "        [-0.36179166],\n",
              "        [-0.35820838],\n",
              "        [-0.57266627]])]"
            ]
          },
          "metadata": {},
          "execution_count": 21
        }
      ]
    },
    {
      "cell_type": "code",
      "source": [
        "# For logistic regression or a linear SVM, you would get the weights as:\n",
        "svm_model.coef_\n"
      ],
      "metadata": {
        "colab": {
          "base_uri": "https://localhost:8080/"
        },
        "id": "DlFtKn2pMNPW",
        "outputId": "b578c1b1-5dd8-47bd-de7c-a25207f840c4"
      },
      "execution_count": 25,
      "outputs": [
        {
          "output_type": "execute_result",
          "data": {
            "text/plain": [
              "array([[ 3.52073651e-01, -1.11356397e-01, -7.58895125e-01,\n",
              "         1.11165761e-01,  4.06730416e-01,  1.99950755e+00,\n",
              "         4.81614544e-01, -2.40994335e-01,  1.03045452e-04,\n",
              "         3.51924594e-01,  2.70360244e+00,  7.03678912e-01,\n",
              "         5.18319102e-01,  3.70331547e-02,  1.85824617e-01,\n",
              "        -1.48186928e-01]])"
            ]
          },
          "metadata": {},
          "execution_count": 25
        }
      ]
    }
  ]
}