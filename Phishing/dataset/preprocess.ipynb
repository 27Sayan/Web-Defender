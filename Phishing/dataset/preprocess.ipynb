{
  "cells": [
    {
      "cell_type": "code",
      "execution_count": 11,
      "metadata": {
        "id": "95hrjBTiYbW7"
      },
      "outputs": [],
      "source": [
        "from scipy.io import arff\n",
        "import numpy as np\n",
        "import json\n",
        "from sklearn.model_selection import train_test_split, KFold"
      ]
    },
    {
      "cell_type": "code",
      "execution_count": 13,
      "metadata": {
        "colab": {
          "base_uri": "https://localhost:8080/"
        },
        "id": "7Lq2hdC_YbW-",
        "outputId": "ad55e60f-8bea-4529-9fec-d0e9fe9ccaf9"
      },
      "outputs": [
        {
          "output_type": "stream",
          "name": "stdout",
          "text": [
            "[(b'-1', b'1', b'1', b'1', b'-1', b'-1', b'-1', b'-1', b'-1', b'1', b'1', b'-1', b'1', b'-1', b'1', b'-1', b'-1', b'-1', b'0', b'1', b'1', b'1', b'1', b'-1', b'-1', b'-1', b'-1', b'1', b'1', b'-1', b'-1')\n",
            " (b'1', b'1', b'1', b'1', b'1', b'-1', b'0', b'1', b'-1', b'1', b'1', b'-1', b'1', b'0', b'-1', b'-1', b'1', b'1', b'0', b'1', b'1', b'1', b'1', b'-1', b'-1', b'0', b'-1', b'1', b'1', b'1', b'-1')\n",
            " (b'1', b'0', b'1', b'1', b'1', b'-1', b'-1', b'-1', b'-1', b'1', b'1', b'-1', b'1', b'0', b'-1', b'-1', b'-1', b'-1', b'0', b'1', b'1', b'1', b'1', b'1', b'-1', b'1', b'-1', b'1', b'0', b'-1', b'-1')\n",
            " ...\n",
            " (b'1', b'-1', b'1', b'1', b'1', b'-1', b'1', b'-1', b'-1', b'1', b'1', b'1', b'1', b'0', b'-1', b'-1', b'1', b'1', b'0', b'1', b'1', b'1', b'1', b'1', b'1', b'1', b'-1', b'1', b'0', b'1', b'-1')\n",
            " (b'-1', b'-1', b'1', b'1', b'1', b'-1', b'-1', b'-1', b'1', b'-1', b'1', b'1', b'-1', b'-1', b'1', b'-1', b'1', b'1', b'0', b'-1', b'1', b'-1', b'1', b'1', b'1', b'1', b'-1', b'1', b'1', b'1', b'-1')\n",
            " (b'-1', b'-1', b'1', b'1', b'1', b'-1', b'-1', b'-1', b'1', b'1', b'1', b'1', b'-1', b'-1', b'0', b'-1', b'1', b'1', b'0', b'1', b'1', b'1', b'1', b'-1', b'1', b'-1', b'-1', b'-1', b'1', b'-1', b'-1')]\n"
          ]
        }
      ],
      "source": [
        "# Load the ARFF dataset\n",
        "with open('/content/sample_data/dataset.arff', 'r') as f:\n",
        "    phish_df, meta = arff.loadarff(f)\n",
        "\n",
        "# Convert the dataset to a NumPy array (if needed)\n",
        "data = np.array(phish_df)\n",
        "\n",
        "# Print the data points\n",
        "print(data)"
      ]
    },
    {
      "cell_type": "code",
      "execution_count": 15,
      "metadata": {
        "id": "D1qeW5HFYbW_",
        "colab": {
          "base_uri": "https://localhost:8080/"
        },
        "outputId": "e07e7058-7023-4d14-d77f-18e46cf31418"
      },
      "outputs": [
        {
          "output_type": "stream",
          "name": "stdout",
          "text": [
            "The dataset has 11055 datapoints with 30 features\n",
            "Features: ['having_IP_Address', 'URL_Length', 'Shortining_Service', 'having_At_Symbol', 'double_slash_redirecting', 'Prefix_Suffix', 'having_Sub_Domain', 'SSLfinal_State', 'Domain_registeration_length', 'Favicon', 'port', 'HTTPS_token', 'Request_URL', 'URL_of_Anchor', 'Links_in_tags', 'SFH', 'Submitting_to_email', 'Abnormal_URL', 'Redirect', 'on_mouseover', 'RightClick', 'popUpWidnow', 'Iframe', 'age_of_domain', 'DNSRecord', 'web_traffic', 'Page_Rank', 'Google_Index', 'Links_pointing_to_page', 'Statistical_report']\n"
          ]
        }
      ],
      "source": [
        "# Print the number of datapoints and features\n",
        "print('The dataset has {0} datapoints with {1} features'.format(data.shape[0], len(data.dtype) - 1))\n",
        "\n",
        "# Print the feature names from the metadata\n",
        "print('Features: {0}'.format(meta.names()[:-1]))\n"
      ]
    },
    {
      "cell_type": "code",
      "execution_count": 19,
      "metadata": {
        "id": "12utlukWYbXB",
        "colab": {
          "base_uri": "https://localhost:8080/"
        },
        "outputId": "8e3b942b-1884-48d6-d06b-2e27466f65e7"
      },
      "outputs": [
        {
          "output_type": "stream",
          "name": "stdout",
          "text": [
            "Before splitting\n",
            "X: (11055,), y: (11055,)\n",
            "After splitting\n",
            "X_train: (7738,), y_train: (7738,), X_test: (3317,), y_test: (3317,)\n"
          ]
        }
      ],
      "source": [
        "# Separate the features (X) and target (y)\n",
        "X = data[list(meta.names()[:-1])]  # All columns except the last (target column)\n",
        "y = data[meta.names()[-1]]         # The last column is the target\n",
        "\n",
        "# Reshape y to be a 1D array\n",
        "y = y.reshape(-1)\n",
        "\n",
        "# Print the shapes before splitting\n",
        "print('Before splitting')\n",
        "print('X: {0}, y: {1}'.format(X.shape, y.shape))\n",
        "\n",
        "# Split the dataset into training and testing sets\n",
        "from sklearn.model_selection import train_test_split\n",
        "X_train, X_test, y_train, y_test = train_test_split(X, y, test_size=0.3, random_state=0)\n",
        "\n",
        "# Print the shapes after splitting\n",
        "print('After splitting')\n",
        "print('X_train: {0}, y_train: {1}, X_test: {2}, y_test: {3}'.format(X_train.shape, y_train.shape, X_test.shape, y_test.shape))\n"
      ]
    },
    {
      "cell_type": "code",
      "execution_count": 20,
      "metadata": {
        "id": "zkBjJJ8UYbXB",
        "colab": {
          "base_uri": "https://localhost:8080/"
        },
        "outputId": "01b150d2-f472-4a1c-c7c4-46c664547f9a"
      },
      "outputs": [
        {
          "output_type": "stream",
          "name": "stdout",
          "text": [
            "Saved!\n"
          ]
        }
      ],
      "source": [
        "np.save('X_train.npy', X_train)\n",
        "np.save('X_test.npy', X_test)\n",
        "np.save('y_train.npy', y_train)\n",
        "np.save('y_test.npy', y_test)\n",
        "print('Saved!')"
      ]
    },
    {
      "cell_type": "code",
      "execution_count": 26,
      "metadata": {
        "id": "T7JVgVjNYbXC",
        "colab": {
          "base_uri": "https://localhost:8080/"
        },
        "outputId": "a0590feb-dafb-4dc2-fa4d-bfa8633168b3"
      },
      "outputs": [
        {
          "output_type": "stream",
          "name": "stdout",
          "text": [
            "Test Data written to testdata.json\n"
          ]
        }
      ],
      "source": [
        "# Function to convert data to JSON serializable format\n",
        "def convert_to_serializable(data):\n",
        "    serializable_data = []\n",
        "    for row in data:\n",
        "        # Convert each row, handling bytes by decoding to string\n",
        "        new_row = [str(item, 'utf-8') if isinstance(item, bytes) else item for item in row]\n",
        "        serializable_data.append(new_row)\n",
        "    return serializable_data\n",
        "\n",
        "# Prepare test data dictionary\n",
        "test_data = dict()\n",
        "test_data['X_test'] = convert_to_serializable(X_test)  # Convert X_test to a JSON-serializable format\n",
        "test_data['y_test'] = [str(item, 'utf-8') if isinstance(item, bytes) else item for item in y_test.tolist()]  # Convert y_test\n",
        "\n",
        "# Write to JSON file\n",
        "with open('/content/sample_data/testdata.json', 'w') as tdfile:\n",
        "    json.dump(test_data, tdfile)\n",
        "    print('Test Data written to testdata.json')\n"
      ]
    }
  ],
  "metadata": {
    "kernelspec": {
      "display_name": "Python 3",
      "language": "python",
      "name": "python3"
    },
    "language_info": {
      "codemirror_mode": {
        "name": "ipython",
        "version": 3
      },
      "file_extension": ".py",
      "mimetype": "text/x-python",
      "name": "python",
      "nbconvert_exporter": "python",
      "pygments_lexer": "ipython3",
      "version": "3.7.0"
    },
    "colab": {
      "provenance": []
    }
  },
  "nbformat": 4,
  "nbformat_minor": 0
}